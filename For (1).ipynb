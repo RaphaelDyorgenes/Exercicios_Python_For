{
  "nbformat": 4,
  "nbformat_minor": 0,
  "metadata": {
    "colab": {
      "provenance": []
    },
    "kernelspec": {
      "name": "python3",
      "display_name": "Python 3"
    },
    "language_info": {
      "name": "python"
    }
  },
  "cells": [
    {
      "cell_type": "code",
      "execution_count": null,
      "metadata": {
        "colab": {
          "base_uri": "https://localhost:8080/"
        },
        "id": "YbA5LnFBlF60",
        "outputId": "c7bfe221-a466-4a3d-9104-e9153a7665aa"
      },
      "outputs": [
        {
          "output_type": "stream",
          "name": "stdout",
          "text": [
            "Digite um número para mutiplicar 12: 2\n",
            "O resultado é 24\n",
            "Digite um número para mutiplicar 12: 4\n",
            "O resultado é 48\n",
            "Digite um número para mutiplicar 12: 6\n",
            "O resultado é 72\n",
            "Digite um número para mutiplicar 12: 5\n",
            "O resultado é 60\n"
          ]
        }
      ],
      "source": [
        "for i in range (4):\n",
        "  x = int(input(\"Digite um número para mutiplicar 12: \"))\n",
        "  r = x*12\n",
        "  print(\"O resultado é\",r)"
      ]
    },
    {
      "cell_type": "code",
      "source": [
        "for numero in range (1000,2001):\n",
        "  if numero % 11 == 2:\n",
        "    print(numero)"
      ],
      "metadata": {
        "id": "AFsM0iEQ2ku5"
      },
      "execution_count": null,
      "outputs": []
    },
    {
      "cell_type": "code",
      "source": [
        "for i in range(1,21):\n",
        "  print(i)\n",
        "\n",
        "print(list(range(1,21)))"
      ],
      "metadata": {
        "colab": {
          "base_uri": "https://localhost:8080/"
        },
        "id": "4wyR_LNU6Tqq",
        "outputId": "fd4318d4-b0c6-41c5-b0d7-06e3fd641898"
      },
      "execution_count": null,
      "outputs": [
        {
          "output_type": "stream",
          "name": "stdout",
          "text": [
            "1\n",
            "2\n",
            "3\n",
            "4\n",
            "5\n",
            "6\n",
            "7\n",
            "8\n",
            "9\n",
            "10\n",
            "11\n",
            "12\n",
            "13\n",
            "14\n",
            "15\n",
            "16\n",
            "17\n",
            "18\n",
            "19\n",
            "20\n",
            "[1, 2, 3, 4, 5, 6, 7, 8, 9, 10, 11, 12, 13, 14, 15, 16, 17, 18, 19, 20]\n"
          ]
        }
      ]
    }
  ]
}