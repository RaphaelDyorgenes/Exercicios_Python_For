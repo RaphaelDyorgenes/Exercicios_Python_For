{
  "nbformat": 4,
  "nbformat_minor": 0,
  "metadata": {
    "colab": {
      "provenance": []
    },
    "kernelspec": {
      "name": "python3",
      "display_name": "Python 3"
    },
    "language_info": {
      "name": "python"
    }
  },
  "cells": [
    {
      "cell_type": "code",
      "execution_count": null,
      "metadata": {
        "id": "HCDzXqq2BBgm"
      },
      "outputs": [],
      "source": [
        "#1\n",
        "\n",
        "lista = [6,3,5,7,0,1]\n",
        "\n",
        "for id, itens in enumerate(lista):\n",
        "  print(id, itens)"
      ]
    },
    {
      "cell_type": "code",
      "source": [
        "2#\n",
        "\n",
        "lista = [6,3,5,7,1,3,4,8,9,2]\n",
        "print(lista[::-1])"
      ],
      "metadata": {
        "colab": {
          "base_uri": "https://localhost:8080/"
        },
        "id": "isoZqXGABtQF",
        "outputId": "0ea8dae7-0f3b-4831-a868-1161fef8cd57"
      },
      "execution_count": null,
      "outputs": [
        {
          "output_type": "stream",
          "name": "stdout",
          "text": [
            "[2, 9, 8, 4, 3, 1, 7, 5, 3, 6]\n"
          ]
        }
      ]
    },
    {
      "cell_type": "code",
      "source": [
        "#3\n",
        "\n",
        "lista = [6,5,7,0,1]\n",
        "\n",
        "print(max(lista))\n",
        "print(min(lista))"
      ],
      "metadata": {
        "colab": {
          "base_uri": "https://localhost:8080/"
        },
        "id": "cu-9s4CmC-_G",
        "outputId": "b155a575-3d9a-4cc4-fa98-eece9a7938c3"
      },
      "execution_count": null,
      "outputs": [
        {
          "output_type": "stream",
          "name": "stdout",
          "text": [
            "7\n",
            "0\n"
          ]
        }
      ]
    },
    {
      "cell_type": "code",
      "source": [
        "#4\n",
        "impar = []\n",
        "par = []\n",
        "\n",
        "for i in range(1,10):\n",
        "  if i % 2 == 0: par.append(i)\n",
        "  else: impar.append(i)\n",
        "\n",
        "print(f\"Impar: {impar} e par: {par}\")"
      ],
      "metadata": {
        "colab": {
          "base_uri": "https://localhost:8080/"
        },
        "id": "RCgQzpyxDcyh",
        "outputId": "0a378c03-b3e3-414f-afe3-5738059130af"
      },
      "execution_count": null,
      "outputs": [
        {
          "output_type": "stream",
          "name": "stdout",
          "text": [
            "Impar[1, 3, 5, 7, 9] e par[2, 4, 6, 8]\n"
          ]
        }
      ]
    },
    {
      "cell_type": "code",
      "source": [
        "#5\n",
        "\n",
        "lista = [6,3,5,7,1,3,4,8,9,2]\n",
        "\n",
        "lista = [lista[-1]]+ lista[1:-1]+ [lista[0]]\n",
        "print(lista)"
      ],
      "metadata": {
        "colab": {
          "base_uri": "https://localhost:8080/"
        },
        "id": "efeWeP0hGM0q",
        "outputId": "0659ea5a-c4e4-4701-fefa-22ad1e844c75"
      },
      "execution_count": null,
      "outputs": [
        {
          "output_type": "stream",
          "name": "stdout",
          "text": [
            "[2, 3, 5, 7, 1, 3, 4, 8, 9, 6]\n"
          ]
        }
      ]
    },
    {
      "cell_type": "code",
      "source": [
        "6#\n",
        "\n",
        "[[1 + j*3 + i for i in range(3)] for j in range(3)]\n",
        "\n"
      ],
      "metadata": {
        "colab": {
          "base_uri": "https://localhost:8080/"
        },
        "id": "3GmWq6lHJRsm",
        "outputId": "0df1151e-e088-4860-8cd9-8ce9eca91f23"
      },
      "execution_count": null,
      "outputs": [
        {
          "output_type": "execute_result",
          "data": {
            "text/plain": [
              "[[1, 2, 3], [4, 5, 6], [7, 8, 9]]"
            ]
          },
          "metadata": {},
          "execution_count": 45
        }
      ]
    },
    {
      "cell_type": "code",
      "source": [
        "#7\n",
        "\n",
        "produtos = {'camiseta': (25.00, 10),'calça': (45.00, 5),'sapato': (60.00, 3),'boné': (15.00, 8)}\n",
        "\n",
        "teto = float(input(\"Insira o valor máximo que pretende pagar:\"))\n",
        "\n",
        "for item, valor in produtos.items():\n",
        "  if valor[0] <= teto: print(item,\":\",valor[0])"
      ],
      "metadata": {
        "id": "uxnBO-nCoqrF"
      },
      "execution_count": null,
      "outputs": []
    },
    {
      "cell_type": "code",
      "source": [
        "#8\n",
        "\n",
        "placar = {'nome': '','nota':[],'media':''}\n",
        "\n",
        "placar['nome'] = input(\"Olá insira o mome do atleta: \")\n",
        "\n",
        "for i in range(7):\n",
        "  placar['nota'].append(float(input(f\"Insira a nota do {i+1}° jurado: \")))\n",
        "\n",
        "placar['nota'].remove(max(placar['nota']))\n",
        "placar['nota'].remove(min(placar['nota']))\n",
        "\n",
        "placar['media'] = sum(placar['nota'])/5\n",
        "\n",
        "print(f\"\\n A média das notas {placar['nome']} é {placar['media']}\")\n"
      ],
      "metadata": {
        "id": "jrpP3jJutxIO"
      },
      "execution_count": null,
      "outputs": []
    }
  ]
}